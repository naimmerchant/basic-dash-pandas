{
 "cells": [
  {
   "cell_type": "code",
   "execution_count": 5,
   "metadata": {},
   "outputs": [],
   "source": [
    "df = pd.read_csv(\"https://raw.githubusercontent.com/naimmerchant/basic-dash-pandas/master/NC_PrecinctData.csv\")\n",
    "\n",
    "colors_list=list(df['county_name'].value_counts().index)"
   ]
  },
  {
   "cell_type": "code",
   "execution_count": 18,
   "metadata": {},
   "outputs": [
    {
     "data": {
      "text/html": [
       "        <script type=\"text/javascript\">\n",
       "        window.PlotlyConfig = {MathJaxConfig: 'local'};\n",
       "        if (window.MathJax) {MathJax.Hub.Config({SVG: {font: \"STIX-Web\"}});}\n",
       "        if (typeof require !== 'undefined') {\n",
       "        require.undef(\"plotly\");\n",
       "        requirejs.config({\n",
       "            paths: {\n",
       "                'plotly': ['https://cdn.plot.ly/plotly-latest.min']\n",
       "            }\n",
       "        });\n",
       "        require(['plotly'], function(Plotly) {\n",
       "            window._Plotly = Plotly;\n",
       "        });\n",
       "        }\n",
       "        </script>\n",
       "        "
      ]
     },
     "metadata": {},
     "output_type": "display_data"
    }
   ],
   "source": [
    "from plotly.offline import download_plotlyjs, init_notebook_mode, plot, iplot\n",
    "init_notebook_mode(connected=True)\n",
    "\n",
    "import pandas as pd\n",
    "import dash\n",
    "import dash_core_components as dcc\n",
    "import dash_html_components as html\n",
    "import pandas as pd\n",
    "import plotly.plotly as py\n",
    "import plotly.graph_objs as go\n",
    "from plotly.graph_objs import *"
   ]
  },
  {
   "cell_type": "code",
   "execution_count": 6,
   "metadata": {
    "scrolled": true
   },
   "outputs": [
    {
     "data": {
      "text/plain": [
       "['Wake County',\n",
       " 'Mecklenburg County',\n",
       " 'Guilford County',\n",
       " 'Forsyth County',\n",
       " 'Buncombe County',\n",
       " 'Cumberland County',\n",
       " 'Durham County',\n",
       " 'Pitt County',\n",
       " 'Union County',\n",
       " 'Gaston County',\n",
       " 'Cabarrus County',\n",
       " 'Orange County',\n",
       " 'New Hanover County',\n",
       " 'Robeson County',\n",
       " 'Davidson County',\n",
       " 'Catawba County',\n",
       " 'Rowan County',\n",
       " 'Johnston County',\n",
       " 'Alamance County',\n",
       " 'Henderson County',\n",
       " 'Carteret County',\n",
       " 'Wilkes County',\n",
       " 'Burke County',\n",
       " 'Wayne County',\n",
       " 'Columbus County',\n",
       " 'Moore County',\n",
       " 'Surry County',\n",
       " 'Haywood County',\n",
       " 'Nash County',\n",
       " 'Iredell County',\n",
       " 'Onslow County',\n",
       " 'Lincoln County',\n",
       " 'Brunswick County',\n",
       " 'Watauga County',\n",
       " 'Halifax County',\n",
       " 'Craven County',\n",
       " 'Wilson County',\n",
       " 'Sampson County',\n",
       " 'Beaufort County',\n",
       " 'Edgecombe County',\n",
       " 'Lenoir County',\n",
       " 'Stokes County',\n",
       " 'Northampton County',\n",
       " 'Stanly County',\n",
       " 'Randolph County',\n",
       " 'Pender County',\n",
       " 'Rutherford County',\n",
       " 'Cleveland County',\n",
       " 'Caldwell County',\n",
       " 'Duplin County',\n",
       " 'Avery County',\n",
       " 'Bladen County',\n",
       " 'Chatham County',\n",
       " 'Macon County',\n",
       " 'Harnett County',\n",
       " 'Richmond County',\n",
       " 'Franklin County',\n",
       " 'Ashe County',\n",
       " 'Dare County',\n",
       " 'Jackson County',\n",
       " 'McDowell County',\n",
       " 'Hertford County',\n",
       " 'Cherokee County',\n",
       " 'Davie County',\n",
       " 'Rockingham County',\n",
       " 'Hoke County',\n",
       " 'Granville County',\n",
       " 'Transylvania County',\n",
       " 'Bertie County',\n",
       " 'Montgomery County',\n",
       " 'Warren County',\n",
       " 'Martin County',\n",
       " 'Yadkin County',\n",
       " 'Vance County',\n",
       " 'Madison County',\n",
       " 'Scotland County',\n",
       " 'Anson County',\n",
       " 'Currituck County',\n",
       " 'Greene County',\n",
       " 'Pamlico County',\n",
       " 'Lee County',\n",
       " 'Person County',\n",
       " 'Yancey County',\n",
       " 'Pasquotank County',\n",
       " 'Caswell County',\n",
       " 'Hyde County',\n",
       " 'Alexander County',\n",
       " 'Chowan County',\n",
       " 'Mitchell County',\n",
       " 'Clay County',\n",
       " 'Polk County',\n",
       " 'Perquimans County',\n",
       " 'Jones County',\n",
       " 'Tyrrell County',\n",
       " 'Gates County',\n",
       " 'Washington County',\n",
       " 'Alleghany County',\n",
       " 'Swain County',\n",
       " 'Camden County',\n",
       " 'Graham County']"
      ]
     },
     "execution_count": 6,
     "metadata": {},
     "output_type": "execute_result"
    }
   ],
   "source": [
    "colors_list"
   ]
  },
  {
   "cell_type": "code",
   "execution_count": 7,
   "metadata": {},
   "outputs": [],
   "source": [
    "user_input = \"Catawba County\""
   ]
  },
  {
   "cell_type": "code",
   "execution_count": null,
   "metadata": {},
   "outputs": [],
   "source": []
  },
  {
   "cell_type": "code",
   "execution_count": 13,
   "metadata": {},
   "outputs": [],
   "source": [
    "df1 = df.loc[df['county_name']==user_input]\n",
    "results = df1.groupby('party')['votes'].sum()\n",
    "mydata = [go.Bar(x = results.index,\n",
    "                 y = results.values,\n",
    "                 marker = dict(color='blue'))]\n",
    "mylayout = go.Layout(title = 'Election Results',\n",
    "                     xaxis = dict(title='Category'),\n",
    "                     yaxis = dict(title='Total Votes'))\n",
    "myfig = go.Figure(data=mydata, layout=mylayout)"
   ]
  },
  {
   "cell_type": "code",
   "execution_count": 14,
   "metadata": {},
   "outputs": [
    {
     "data": {
      "text/plain": [
       "Figure({\n",
       "    'data': [{'marker': {'color': 'blue'},\n",
       "              'type': 'bar',\n",
       "              'uid': 'f5d6ff84-bac8-4215-a9f0-6353ac0f61ac',\n",
       "              'x': array(['democratic', 'libertarian', 'republican'], dtype=object),\n",
       "              'y': array([21216,  1973, 48324])}],\n",
       "    'layout': {'title': {'text': 'Election Results'},\n",
       "               'xaxis': {'title': {'text': 'Category'}},\n",
       "               'yaxis': {'title': {'text': 'Total Votes'}}}\n",
       "})"
      ]
     },
     "execution_count": 14,
     "metadata": {},
     "output_type": "execute_result"
    }
   ],
   "source": [
    "myfig"
   ]
  },
  {
   "cell_type": "code",
   "execution_count": 19,
   "metadata": {},
   "outputs": [
    {
     "data": {
      "text/plain": [
       "'temp-plot.html'"
      ]
     },
     "execution_count": 19,
     "metadata": {},
     "output_type": "execute_result"
    }
   ],
   "source": [
    "plot(myfig)"
   ]
  },
  {
   "cell_type": "code",
   "execution_count": null,
   "metadata": {},
   "outputs": [],
   "source": []
  }
 ],
 "metadata": {
  "kernelspec": {
   "display_name": "Python 3",
   "language": "python",
   "name": "python3"
  },
  "language_info": {
   "codemirror_mode": {
    "name": "ipython",
    "version": 3
   },
   "file_extension": ".py",
   "mimetype": "text/x-python",
   "name": "python",
   "nbconvert_exporter": "python",
   "pygments_lexer": "ipython3",
   "version": "3.7.3"
  }
 },
 "nbformat": 4,
 "nbformat_minor": 2
}
